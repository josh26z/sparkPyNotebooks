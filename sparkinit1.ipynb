{
 "cells": [
  {
   "cell_type": "code",
   "execution_count": null,
   "id": "28548bbd-0605-46a8-b198-105baaa74d9b",
   "metadata": {},
   "outputs": [],
   "source": [
    "#importing nessasary modules from pyspark.sql package for starting a spark session...\n",
    "#also imports .types which is used for taking in data from the datasets to recognize the datatype \n",
    "#  for manual schema assignment..."
   ]
  },
  {
   "cell_type": "code",
   "execution_count": 3,
   "id": "501fc7fa-4ccd-498c-80a1-642b8b838f9e",
   "metadata": {},
   "outputs": [],
   "source": [
    "from pyspark.sql import SparkSession\n",
    "from pyspark.sql.types import StructType,StructField,StringType,IntegerType\n"
   ]
  },
  {
   "cell_type": "code",
   "execution_count": null,
   "id": "0f8892f4-9874-4f87-a98e-16e7a235b55b",
   "metadata": {},
   "outputs": [],
   "source": [
    "#starting a spark session with .builder method...\n",
    "#.appName used to create a custom appname for the appl ; for monitoring and debugging purpose with hwlp\n",
    "#  of centralized spark ui.\n",
    "#getOrCreate() method for creating the appl if not exists or use the existing one"
   ]
  },
  {
   "cell_type": "code",
   "execution_count": 4,
   "id": "a347f965-1292-4249-9d8b-f01a1a3466b3",
   "metadata": {},
   "outputs": [],
   "source": [
    "spark= SparkSession.builder.appName(\"firstapp\").getOrCreate()"
   ]
  },
  {
   "cell_type": "code",
   "execution_count": null,
   "id": "af0d3fa5-be99-4a1e-8dbd-4ad8453bae59",
   "metadata": {},
   "outputs": [],
   "source": [
    "#manual schema assigment\n",
    "#Structtype to create the schema and structfield to define the column headers and thier types\n",
    "#a normal syntax followed \n",
    "#schema_var = StructType([ StructField(colnames_in_quotes,Type,Nullability_boolean),...])"
   ]
  },
  {
   "cell_type": "code",
   "execution_count": 5,
   "id": "8dd9a6a7-7174-42f3-9c11-419466847e56",
   "metadata": {},
   "outputs": [],
   "source": [
    "schema = StructType([ StructField(\"userid\",IntegerType(),True),\n",
    "                      StructField(\"name\",StringType(),True),\n",
    "                      StructField(\"age\",IntegerType(),True),\n",
    "                      StructField(\"friends\",IntegerType(),True)])"
   ]
  },
  {
   "cell_type": "code",
   "execution_count": null,
   "id": "78eef0da-417a-4e56-83b8-725cc3957225",
   "metadata": {},
   "outputs": [],
   "source": [
    "#.read is a dataframereader for spark and .format(\"csv\") defines that the data in in csv form\n",
    "#.schema() and .option() are subfunctions in the scope of spark\n",
    "# header as true means that the first rowin csv is the header and can be ignored in data rows\n",
    "#load readies the transformation part of spark"
   ]
  },
  {
   "cell_type": "code",
   "execution_count": 6,
   "id": "854fde2f-8e06-4213-a5d5-09266bb278d0",
   "metadata": {},
   "outputs": [],
   "source": [
    "people = spark.read.format(\"csv\")\\\n",
    "        .schema(schema)\\\n",
    "        .option(\"path\",\"users_data.csv\")\\\n",
    "        .option(\"header\",\"true\")\\\n",
    "        .load()"
   ]
  },
  {
   "cell_type": "code",
   "execution_count": null,
   "id": "a221ed64-c157-4f93-98c5-196766b6c6e6",
   "metadata": {},
   "outputs": [],
   "source": [
    "#returns the schema of the given dataframe"
   ]
  },
  {
   "cell_type": "code",
   "execution_count": 7,
   "id": "de058739-d238-4885-bde8-d68d11bc2729",
   "metadata": {
    "scrolled": true
   },
   "outputs": [
    {
     "name": "stdout",
     "output_type": "stream",
     "text": [
      "root\n",
      " |-- userid: integer (nullable = true)\n",
      " |-- name: string (nullable = true)\n",
      " |-- age: integer (nullable = true)\n",
      " |-- friends: integer (nullable = true)\n",
      "\n"
     ]
    }
   ],
   "source": [
    "people.printSchema()"
   ]
  },
  {
   "cell_type": "code",
   "execution_count": null,
   "id": "ed5dfdc4-63f9-4294-8b1f-43d134686641",
   "metadata": {},
   "outputs": [],
   "source": [
    "#returns the no of rows"
   ]
  },
  {
   "cell_type": "code",
   "execution_count": 8,
   "id": "6e24acf7-bf40-4844-a019-245864e6de70",
   "metadata": {},
   "outputs": [
    {
     "data": {
      "text/plain": [
       "100"
      ]
     },
     "execution_count": 8,
     "metadata": {},
     "output_type": "execute_result"
    }
   ],
   "source": [
    "people.count()"
   ]
  },
  {
   "cell_type": "code",
   "execution_count": null,
   "id": "b01441c0-1bbc-409a-a4bb-d3db94a270d8",
   "metadata": {},
   "outputs": [],
   "source": [
    "#shows the rows atleast the top 20"
   ]
  },
  {
   "cell_type": "code",
   "execution_count": 10,
   "id": "4bc4b113-ccb3-44e0-8f1b-f215db1de953",
   "metadata": {},
   "outputs": [
    {
     "name": "stdout",
     "output_type": "stream",
     "text": [
      "+------+----------------+---+-------+\n",
      "|userid|            name|age|friends|\n",
      "+------+----------------+---+-------+\n",
      "|     1|Jeremy Fernandez| 49|    629|\n",
      "|     2|  Ivan Robertson| 53|    752|\n",
      "|     3|     Andre Jones| 20|    257|\n",
      "|     4|     Ana Escobar| 65|    549|\n",
      "|     5|Charlotte Harris| 36|     22|\n",
      "|     6| Philip Williams| 45|    403|\n",
      "|     7|    Whitney Moss| 19|    570|\n",
      "|     8|   Kellie Miller| 32|    480|\n",
      "|     9|    Scott Bailey| 64|    649|\n",
      "|    10|     Kevin Smith| 54|    209|\n",
      "|    11|    Lori Coleman| 54|    459|\n",
      "|    12|  Richard Torres| 67|    284|\n",
      "|    13|    Edgar Decker| 56|    517|\n",
      "|    14|  Shawn Cisneros| 78|    544|\n",
      "|    15|   Timothy Moore| 41|    755|\n",
      "|    16|Jacqueline Black| 29|    338|\n",
      "|    17|   Colleen Vance| 54|    483|\n",
      "|    18|   Patty Kennedy| 38|    217|\n",
      "|    19|    Kathy Powers| 26|    965|\n",
      "|    20|   Timothy Rocha| 47|    646|\n",
      "+------+----------------+---+-------+\n",
      "only showing top 20 rows\n",
      "\n"
     ]
    }
   ],
   "source": [
    "people.show()"
   ]
  },
  {
   "cell_type": "code",
   "execution_count": null,
   "id": "374cc820-412b-4b95-88fb-d91854a56162",
   "metadata": {},
   "outputs": [],
   "source": [
    "############## DATAFRAMES AND SQL ###################"
   ]
  },
  {
   "cell_type": "code",
   "execution_count": null,
   "id": "3a9fa7a3-641c-46ec-adb6-8676cfda9a12",
   "metadata": {},
   "outputs": [],
   "source": [
    "# to work with sql on spark dataframe, we need to create a view of the data\n",
    "# view is a temp window for data either filtered or shown with a condition"
   ]
  },
  {
   "cell_type": "code",
   "execution_count": null,
   "id": "88a2437d-44d5-4cb7-b374-98776bc9f492",
   "metadata": {},
   "outputs": [],
   "source": [
    "# here we create view from the people dataframe. and inside the brackets\n",
    "# we mention the table name for the new view table which is people, here.\n",
    "# basic syntax: dataframe_name.createOrReplaceTempView(new_view_tablename_in_quotes)                      "
   ]
  },
  {
   "cell_type": "code",
   "execution_count": 11,
   "id": "9df37c63-b996-480b-a3bf-1b5373af0e3b",
   "metadata": {},
   "outputs": [],
   "source": [
    "people.createOrReplaceTempView(\"people\")"
   ]
  },
  {
   "cell_type": "code",
   "execution_count": null,
   "id": "2a69ff91-a7fd-4ec2-a1de-2524ee4d07f3",
   "metadata": {},
   "outputs": [],
   "source": [
    "# we create a var for the new dataframe from the sql query that we pass..."
   ]
  },
  {
   "cell_type": "code",
   "execution_count": 12,
   "id": "3d264861-617a-4c5c-8825-964ed7972a30",
   "metadata": {},
   "outputs": [],
   "source": [
    "data = spark.sql(\"select * from people where age > 30\")"
   ]
  },
  {
   "cell_type": "code",
   "execution_count": null,
   "id": "1b6191c0-797b-475f-a584-b99f4b15f3bf",
   "metadata": {},
   "outputs": [],
   "source": [
    "# we need to call .show() action to see the dataframe that we need "
   ]
  },
  {
   "cell_type": "code",
   "execution_count": 13,
   "id": "0778748b-2bfc-40be-b997-a51b3ae041c1",
   "metadata": {},
   "outputs": [
    {
     "name": "stdout",
     "output_type": "stream",
     "text": [
      "+------+------------------+---+-------+\n",
      "|userid|              name|age|friends|\n",
      "+------+------------------+---+-------+\n",
      "|     1|  Jeremy Fernandez| 49|    629|\n",
      "|     2|    Ivan Robertson| 53|    752|\n",
      "|     4|       Ana Escobar| 65|    549|\n",
      "|     5|  Charlotte Harris| 36|     22|\n",
      "|     6|   Philip Williams| 45|    403|\n",
      "|     8|     Kellie Miller| 32|    480|\n",
      "|     9|      Scott Bailey| 64|    649|\n",
      "|    10|       Kevin Smith| 54|    209|\n",
      "|    11|      Lori Coleman| 54|    459|\n",
      "|    12|    Richard Torres| 67|    284|\n",
      "|    13|      Edgar Decker| 56|    517|\n",
      "|    14|    Shawn Cisneros| 78|    544|\n",
      "|    15|     Timothy Moore| 41|    755|\n",
      "|    17|     Colleen Vance| 54|    483|\n",
      "|    18|     Patty Kennedy| 38|    217|\n",
      "|    20|     Timothy Rocha| 47|    646|\n",
      "|    23|   Elizabeth Lewis| 44|    861|\n",
      "|    24|       Bobby Bates| 45|    330|\n",
      "|    25|   William Delgado| 58|     56|\n",
      "|    27|Jennifer Mcpherson| 38|    881|\n",
      "+------+------------------+---+-------+\n",
      "only showing top 20 rows\n",
      "\n"
     ]
    }
   ],
   "source": [
    "data.show()"
   ]
  },
  {
   "cell_type": "code",
   "execution_count": 14,
   "id": "8c0aa238-e864-458b-9d13-c4e19a141ea6",
   "metadata": {},
   "outputs": [
    {
     "data": {
      "text/plain": [
       "74"
      ]
     },
     "execution_count": 14,
     "metadata": {},
     "output_type": "execute_result"
    }
   ],
   "source": [
    "data.count()"
   ]
  },
  {
   "cell_type": "code",
   "execution_count": 15,
   "id": "26494903-92b0-4e04-bfd0-f91d859b196c",
   "metadata": {},
   "outputs": [
    {
     "name": "stdout",
     "output_type": "stream",
     "text": [
      "26\n"
     ]
    }
   ],
   "source": [
    "print(people.count()-data.count())"
   ]
  },
  {
   "cell_type": "code",
   "execution_count": null,
   "id": "f61579c6-8a62-4522-af7d-c68d15adffdb",
   "metadata": {},
   "outputs": [],
   "source": []
  }
 ],
 "metadata": {
  "kernelspec": {
   "display_name": "Python 3 (ipykernel)",
   "language": "python",
   "name": "python3"
  },
  "language_info": {
   "codemirror_mode": {
    "name": "ipython",
    "version": 3
   },
   "file_extension": ".py",
   "mimetype": "text/x-python",
   "name": "python",
   "nbconvert_exporter": "python",
   "pygments_lexer": "ipython3",
   "version": "3.8.20"
  }
 },
 "nbformat": 4,
 "nbformat_minor": 5
}
