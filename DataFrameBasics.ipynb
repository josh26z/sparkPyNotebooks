{
 "cells": [
  {
   "cell_type": "code",
   "execution_count": null,
   "id": "04874d61-e889-4f39-9df3-f6a664192ccb",
   "metadata": {},
   "outputs": [],
   "source": []
  },
  {
   "cell_type": "code",
   "execution_count": 1,
   "id": "2313eef6-7b06-4c0e-9463-73fa675af721",
   "metadata": {},
   "outputs": [],
   "source": [
    "import os\n",
    "import sys\n",
    "\n",
    "# Set Python paths to your conda environment\n",
    "os.environ['PYSPARK_PYTHON'] = sys.executable  # Worker Python\n",
    "os.environ['PYSPARK_DRIVER_PYTHON'] = sys.executable  # Driver Python"
   ]
  },
  {
   "cell_type": "code",
   "execution_count": 2,
   "id": "d1f818cc-b500-4654-81f1-a1a1cdd3f4d7",
   "metadata": {},
   "outputs": [],
   "source": [
    "from pyspark.sql import SparkSession\n",
    "from pyspark.sql.functions import col,lit,count, sum, avg"
   ]
  },
  {
   "cell_type": "code",
   "execution_count": 3,
   "id": "23a3fb29-d662-469c-a52f-087e44104da9",
   "metadata": {},
   "outputs": [],
   "source": [
    "#create a spark session"
   ]
  },
  {
   "cell_type": "code",
   "execution_count": 4,
   "id": "4e066831-31a9-4acc-b1fd-14a8995919de",
   "metadata": {},
   "outputs": [],
   "source": [
    "spark= SparkSession.builder.appName(\"Basic_DataFrame\").getOrCreate()"
   ]
  },
  {
   "cell_type": "code",
   "execution_count": 5,
   "id": "9f6d9fef-eadf-4633-bc58-24b4f48cb626",
   "metadata": {},
   "outputs": [],
   "source": [
    "#creating a dataframe from a list of tuples defining data and schema"
   ]
  },
  {
   "cell_type": "code",
   "execution_count": 6,
   "id": "2c48fc18-ccae-4bbf-8abb-5cb47a7a23a6",
   "metadata": {},
   "outputs": [],
   "source": [
    "data =[(\"John Smith\", 32, \"Male\", 75000.50),\n",
    "       (\"Emily Davis\", 28, \"Female\", 82000.75),\n",
    "       (\"Michael Johnson\", 45, \"Male\", 95000.00),\n",
    "       (\"Sarah Wilson\", 36, \"Female\", 68000.25)]\n",
    "columns = [\"name\",\"age\",\"gender\",\"salary\"]"
   ]
  },
  {
   "cell_type": "code",
   "execution_count": 7,
   "id": "7f908d45-1c9c-4ed3-a03f-d25eed369cf9",
   "metadata": {},
   "outputs": [],
   "source": [
    "#creating a dataframe var that takes in data from the listoftuples and schema from columns"
   ]
  },
  {
   "cell_type": "code",
   "execution_count": 8,
   "id": "25f8dddf-667a-462d-98c5-942681b19bb8",
   "metadata": {},
   "outputs": [],
   "source": [
    "df = spark.createDataFrame(data,columns)"
   ]
  },
  {
   "cell_type": "code",
   "execution_count": 9,
   "id": "a4fc965f-7584-405c-89b9-1ae4922de3f1",
   "metadata": {},
   "outputs": [],
   "source": [
    "# show the dataframe"
   ]
  },
  {
   "cell_type": "code",
   "execution_count": 10,
   "id": "74bde6fa-3080-4f9d-b6a0-033c1a798dd9",
   "metadata": {},
   "outputs": [
    {
     "name": "stdout",
     "output_type": "stream",
     "text": [
      "+---------------+---+------+--------+\n",
      "|           name|age|gender|  salary|\n",
      "+---------------+---+------+--------+\n",
      "|     John Smith| 32|  Male| 75000.5|\n",
      "|    Emily Davis| 28|Female|82000.75|\n",
      "|Michael Johnson| 45|  Male| 95000.0|\n",
      "|   Sarah Wilson| 36|Female|68000.25|\n",
      "+---------------+---+------+--------+\n",
      "\n"
     ]
    }
   ],
   "source": [
    "df.show()"
   ]
  },
  {
   "cell_type": "code",
   "execution_count": null,
   "id": "ae997e8d-7709-417b-9591-79d572a4d90a",
   "metadata": {},
   "outputs": [],
   "source": [
    "# show specific columns by slecting them"
   ]
  },
  {
   "cell_type": "code",
   "execution_count": 12,
   "id": "ac8914af-0a9b-494c-b0fd-1a54f14ed98f",
   "metadata": {},
   "outputs": [
    {
     "name": "stdout",
     "output_type": "stream",
     "text": [
      "+---------------+---+\n",
      "|           name|age|\n",
      "+---------------+---+\n",
      "|     John Smith| 32|\n",
      "|    Emily Davis| 28|\n",
      "|Michael Johnson| 45|\n",
      "|   Sarah Wilson| 36|\n",
      "+---------------+---+\n",
      "\n"
     ]
    }
   ],
   "source": [
    "df.select(\"name\",\"age\").show()"
   ]
  },
  {
   "cell_type": "code",
   "execution_count": null,
   "id": "e4018a9d-732a-4cfb-884c-2e35c1dd977f",
   "metadata": {},
   "outputs": [],
   "source": [
    "# filter rows based on condition given"
   ]
  },
  {
   "cell_type": "code",
   "execution_count": 13,
   "id": "93221332-5247-42ab-bb16-2f8414354bcc",
   "metadata": {},
   "outputs": [
    {
     "name": "stdout",
     "output_type": "stream",
     "text": [
      "+---------------+---+------+--------+\n",
      "|           name|age|gender|  salary|\n",
      "+---------------+---+------+--------+\n",
      "|Michael Johnson| 45|  Male| 95000.0|\n",
      "|   Sarah Wilson| 36|Female|68000.25|\n",
      "+---------------+---+------+--------+\n",
      "\n"
     ]
    }
   ],
   "source": [
    "df.filter(df[\"age\"]>35).show()"
   ]
  },
  {
   "cell_type": "code",
   "execution_count": 15,
   "id": "48e2dabd-abf3-42a9-a6b1-ca50dc69418c",
   "metadata": {},
   "outputs": [
    {
     "name": "stdout",
     "output_type": "stream",
     "text": [
      "+---------------+---+\n",
      "|           name|age|\n",
      "+---------------+---+\n",
      "|Michael Johnson| 45|\n",
      "|   Sarah Wilson| 36|\n",
      "+---------------+---+\n",
      "\n"
     ]
    }
   ],
   "source": [
    "df.filter(df[\"age\"]>35).select(\"name\",\"age\").show()"
   ]
  },
  {
   "cell_type": "code",
   "execution_count": 17,
   "id": "1ab4119e-a94c-42f1-bd5a-f6fbf4cb86fa",
   "metadata": {},
   "outputs": [
    {
     "name": "stdout",
     "output_type": "stream",
     "text": [
      "+------+-----+------------+-----------+\n",
      "|gender|count|total salary|average age|\n",
      "+------+-----+------------+-----------+\n",
      "|  Male|    2|    170000.5|       38.5|\n",
      "|Female|    2|    150001.0|       32.0|\n",
      "+------+-----+------------+-----------+\n",
      "\n"
     ]
    }
   ],
   "source": [
    "df.groupBy(\"gender\").agg(count(\"*\").alias(\"count\"),\n",
    "                        sum(\"salary\").alias(\"total salary\"),\n",
    "                        avg(\"age\").alias(\"average age\")).show()"
   ]
  },
  {
   "cell_type": "code",
   "execution_count": 18,
   "id": "f8b577be-87b6-4c6b-8698-153b72a17c3f",
   "metadata": {},
   "outputs": [
    {
     "name": "stdout",
     "output_type": "stream",
     "text": [
      "+---------------+---+------+--------+\n",
      "|           name|age|gender|  salary|\n",
      "+---------------+---+------+--------+\n",
      "|    Emily Davis| 28|Female|82000.75|\n",
      "|     John Smith| 32|  Male| 75000.5|\n",
      "|   Sarah Wilson| 36|Female|68000.25|\n",
      "|Michael Johnson| 45|  Male| 95000.0|\n",
      "+---------------+---+------+--------+\n",
      "\n"
     ]
    }
   ],
   "source": [
    "df.sort(\"age\",ascending=True).show()"
   ]
  },
  {
   "cell_type": "code",
   "execution_count": 19,
   "id": "5ff292f1-a462-4455-bae2-93fbc474a45a",
   "metadata": {},
   "outputs": [
    {
     "name": "stdout",
     "output_type": "stream",
     "text": [
      "+---------------+---+------+-----+\n",
      "|           name|age|gender|bonus|\n",
      "+---------------+---+------+-----+\n",
      "|     John Smith| 32|  Male| 1000|\n",
      "|    Emily Davis| 28|Female| 1000|\n",
      "|Michael Johnson| 45|  Male| 1000|\n",
      "|   Sarah Wilson| 36|Female| 1000|\n",
      "+---------------+---+------+-----+\n",
      "\n"
     ]
    }
   ],
   "source": [
    "df.withColumn(\"bonus\",lit(1000)).drop(\"salary\").show()"
   ]
  },
  {
   "cell_type": "code",
   "execution_count": 20,
   "id": "e8a542b4-5c60-4926-8c19-e5d8b1cc2d8c",
   "metadata": {
    "scrolled": true
   },
   "outputs": [
    {
     "name": "stdout",
     "output_type": "stream",
     "text": [
      "+---------------+---+------+--------+\n",
      "|           name|age|gender|  salary|\n",
      "+---------------+---+------+--------+\n",
      "|     John Smith| 32|  Male| 75000.5|\n",
      "|    Emily Davis| 28|Female|82000.75|\n",
      "|Michael Johnson| 45|  Male| 95000.0|\n",
      "|   Sarah Wilson| 36|Female|68000.25|\n",
      "+---------------+---+------+--------+\n",
      "\n"
     ]
    }
   ],
   "source": [
    "df.show()"
   ]
  },
  {
   "cell_type": "code",
   "execution_count": 21,
   "id": "0cfed869-057c-4651-8ee1-f3863b8ffdb1",
   "metadata": {},
   "outputs": [],
   "source": [
    "spark.stop()"
   ]
  }
 ],
 "metadata": {
  "kernelspec": {
   "display_name": "Python 3 (ipykernel)",
   "language": "python",
   "name": "python3"
  },
  "language_info": {
   "codemirror_mode": {
    "name": "ipython",
    "version": 3
   },
   "file_extension": ".py",
   "mimetype": "text/x-python",
   "name": "python",
   "nbconvert_exporter": "python",
   "pygments_lexer": "ipython3",
   "version": "3.8.20"
  }
 },
 "nbformat": 4,
 "nbformat_minor": 5
}
