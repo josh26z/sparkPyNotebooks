{
 "cells": [
  {
   "cell_type": "code",
   "execution_count": 1,
   "id": "ae752556-5c9b-4899-bd0a-40b9f6813a76",
   "metadata": {},
   "outputs": [],
   "source": [
    "# CATALYST OPTIMIZER"
   ]
  },
  {
   "cell_type": "code",
   "execution_count": 5,
   "id": "07bfead0-876a-4c41-a693-3c71840df656",
   "metadata": {},
   "outputs": [],
   "source": [
    "from pyspark.sql import SparkSession\n",
    "from pyspark.sql.functions import broadcast"
   ]
  },
  {
   "cell_type": "code",
   "execution_count": 7,
   "id": "e84b4b06-de91-4943-b802-3de07544818d",
   "metadata": {},
   "outputs": [],
   "source": [
    "spark = SparkSession.builder.appName(\"CATALYST_OPTIMIZER\").getOrCreate()"
   ]
  },
  {
   "cell_type": "code",
   "execution_count": 8,
   "id": "2bc2134f-35a7-4d4d-9de4-6ee0787e78e6",
   "metadata": {},
   "outputs": [
    {
     "name": "stdout",
     "output_type": "stream",
     "text": [
      "C:\\Users\\jojim\\sparkwork\n"
     ]
    }
   ],
   "source": [
    "import os\n",
    "print(os.getcwd())"
   ]
  },
  {
   "cell_type": "code",
   "execution_count": null,
   "id": "df709872-12a9-4f71-8dc0-d06ca8823b71",
   "metadata": {},
   "outputs": [],
   "source": []
  }
 ],
 "metadata": {
  "kernelspec": {
   "display_name": "Python 3 (ipykernel)",
   "language": "python",
   "name": "python3"
  },
  "language_info": {
   "codemirror_mode": {
    "name": "ipython",
    "version": 3
   },
   "file_extension": ".py",
   "mimetype": "text/x-python",
   "name": "python",
   "nbconvert_exporter": "python",
   "pygments_lexer": "ipython3",
   "version": "3.8.20"
  }
 },
 "nbformat": 4,
 "nbformat_minor": 5
}
