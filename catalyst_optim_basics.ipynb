{
 "cells": [
  {
   "cell_type": "code",
   "execution_count": 1,
   "id": "c2850bf0-e974-48a4-9105-c1b2857c23de",
   "metadata": {},
   "outputs": [],
   "source": [
    "import os\n",
    "import sys\n",
    "\n",
    "# Set Python paths to your conda environment\n",
    "os.environ['PYSPARK_PYTHON'] = sys.executable  # Worker Python\n",
    "os.environ['PYSPARK_DRIVER_PYTHON'] = sys.executable  # Driver Python"
   ]
  },
  {
   "cell_type": "code",
   "execution_count": 2,
   "id": "ae752556-5c9b-4899-bd0a-40b9f6813a76",
   "metadata": {},
   "outputs": [],
   "source": [
    "# CATALYST OPTIMIZER"
   ]
  },
  {
   "cell_type": "code",
   "execution_count": 3,
   "id": "07bfead0-876a-4c41-a693-3c71840df656",
   "metadata": {},
   "outputs": [],
   "source": [
    "from pyspark.sql import SparkSession\n",
    "from pyspark.sql.functions import broadcast,expr,col\n"
   ]
  },
  {
   "cell_type": "code",
   "execution_count": 4,
   "id": "e84b4b06-de91-4943-b802-3de07544818d",
   "metadata": {},
   "outputs": [],
   "source": [
    "spark= SparkSession.builder.appName(\"Catalyst_Opti\").getOrCreate()"
   ]
  },
  {
   "cell_type": "code",
   "execution_count": 10,
   "id": "df709872-12a9-4f71-8dc0-d06ca8823b71",
   "metadata": {},
   "outputs": [],
   "source": [
    "data = [(\"John Doe\", 28, \"Engineering\"),\n",
    "    (\"Jane Smith\", 34, \"Marketing\"),\n",
    "    (\"Mike Johnson\", 45, \"Finance\"),\n",
    "    (\"Sarah Williams\", 29, \"Engineering\"),\n",
    "    (\"David Brown\", 38, \"HR\"),\n",
    "    (\"Emily Davis\", 31, \"Sales\"),\n",
    "    (\"Robert Lee\", 42, \"IT\"),\n",
    "    (\"Lisa Chen\", 27, \"Marketing\"),\n",
    "    (\"James Wilson\", 50, \"Finance\"),\n",
    "    (\"Anna Taylor\", 24, \"Support\"),\n",
    "    (\"Michael Adams\", 33, \"Engineering\"),\n",
    "    (\"Jennifer Lopez\", 41, \"HR\"),\n",
    "    (\"Daniel Kim\", 26, \"IT\"),\n",
    "    (\"Amanda Rodriguez\", 35, \"Marketing\"),\n",
    "    (\"Christopher Lee\", 44, \"Finance\"),\n",
    "    (\"Jessica Wong\", 30, \"Engineering\"),\n",
    "    (\"Matthew Patel\", 39, \"Sales\"),\n",
    "    (\"Olivia Martinez\", 28, \"Support\"),\n",
    "    (\"William Nguyen\", 47, \"IT\"),\n",
    "    (\"Sophia Garcia\", 32, \"HR\")]\n",
    "columns = [\"name\",\"age\",\"department\"]"
   ]
  },
  {
   "cell_type": "code",
   "execution_count": 11,
   "id": "241ed5fb-cb6a-47d5-a9d9-16e9ff1a7084",
   "metadata": {},
   "outputs": [],
   "source": [
    "df = spark.createDataFrame(data,columns)"
   ]
  },
  {
   "cell_type": "code",
   "execution_count": 12,
   "id": "8302e2ad-90d2-427a-9a6c-fa4ac79dac20",
   "metadata": {},
   "outputs": [],
   "source": [
    "df.createOrReplaceTempView(\"employees\")"
   ]
  },
  {
   "cell_type": "code",
   "execution_count": 13,
   "id": "2ec6487b-6d25-4870-8e01-793caa439fd4",
   "metadata": {},
   "outputs": [
    {
     "name": "stdout",
     "output_type": "stream",
     "text": [
      "+----------------+---+-----------+\n",
      "|            name|age| department|\n",
      "+----------------+---+-----------+\n",
      "|        John Doe| 28|Engineering|\n",
      "|      Jane Smith| 34|  Marketing|\n",
      "|    Mike Johnson| 45|    Finance|\n",
      "|  Sarah Williams| 29|Engineering|\n",
      "|     David Brown| 38|         HR|\n",
      "|     Emily Davis| 31|      Sales|\n",
      "|      Robert Lee| 42|         IT|\n",
      "|       Lisa Chen| 27|  Marketing|\n",
      "|    James Wilson| 50|    Finance|\n",
      "|     Anna Taylor| 24|    Support|\n",
      "|   Michael Adams| 33|Engineering|\n",
      "|  Jennifer Lopez| 41|         HR|\n",
      "|      Daniel Kim| 26|         IT|\n",
      "|Amanda Rodriguez| 35|  Marketing|\n",
      "| Christopher Lee| 44|    Finance|\n",
      "|    Jessica Wong| 30|Engineering|\n",
      "|   Matthew Patel| 39|      Sales|\n",
      "| Olivia Martinez| 28|    Support|\n",
      "|  William Nguyen| 47|         IT|\n",
      "|   Sophia Garcia| 32|         HR|\n",
      "+----------------+---+-----------+\n",
      "\n"
     ]
    }
   ],
   "source": [
    "df.show()"
   ]
  },
  {
   "cell_type": "code",
   "execution_count": 14,
   "id": "cdfdf84d-ae87-4236-b183-2ad98d7251f4",
   "metadata": {},
   "outputs": [],
   "source": [
    "q1= \"select name,age from employees where department ='Engineering'\"\n",
    "res1= spark.sql(q1)"
   ]
  },
  {
   "cell_type": "code",
   "execution_count": 15,
   "id": "2a8a5185-573a-48d8-a0f8-f40d77edf0b1",
   "metadata": {},
   "outputs": [],
   "source": [
    "q2 = \"select department,avg(age) as avg_age from employees group by department order by avg_age desc\"\n",
    "res2= spark.sql(q2)"
   ]
  },
  {
   "cell_type": "code",
   "execution_count": 16,
   "id": "47c82d44-2b23-4838-8b89-58e019464a19",
   "metadata": {},
   "outputs": [],
   "source": [
    "res3 = df.select(\"name\",\"department\").filter(col(\"age\")>30)"
   ]
  },
  {
   "cell_type": "code",
   "execution_count": 20,
   "id": "af12e01b-965f-413c-b48e-317e117edfbf",
   "metadata": {},
   "outputs": [],
   "source": [
    "res4 = df.withColumn(\"status\",expr(\"case when age < 30 then '  YOUNG' else '  MATURE' end\"))"
   ]
  },
  {
   "cell_type": "code",
   "execution_count": 19,
   "id": "e7f88ac9-9e17-4d7e-9cf4-ebb47722c81e",
   "metadata": {},
   "outputs": [
    {
     "name": "stdout",
     "output_type": "stream",
     "text": [
      "Result 1: \n",
      "+--------------+---+\n",
      "|          name|age|\n",
      "+--------------+---+\n",
      "|      John Doe| 28|\n",
      "|Sarah Williams| 29|\n",
      "| Michael Adams| 33|\n",
      "|  Jessica Wong| 30|\n",
      "+--------------+---+\n",
      "\n",
      "Result 2: \n",
      "+-----------+------------------+\n",
      "| department|           avg_age|\n",
      "+-----------+------------------+\n",
      "|    Finance|46.333333333333336|\n",
      "|         IT|38.333333333333336|\n",
      "|         HR|              37.0|\n",
      "|      Sales|              35.0|\n",
      "|  Marketing|              32.0|\n",
      "|Engineering|              30.0|\n",
      "|    Support|              26.0|\n",
      "+-----------+------------------+\n",
      "\n",
      "Result 3: \n",
      "+----------------+-----------+\n",
      "|            name| department|\n",
      "+----------------+-----------+\n",
      "|      Jane Smith|  Marketing|\n",
      "|    Mike Johnson|    Finance|\n",
      "|     David Brown|         HR|\n",
      "|     Emily Davis|      Sales|\n",
      "|      Robert Lee|         IT|\n",
      "|    James Wilson|    Finance|\n",
      "|   Michael Adams|Engineering|\n",
      "|  Jennifer Lopez|         HR|\n",
      "|Amanda Rodriguez|  Marketing|\n",
      "| Christopher Lee|    Finance|\n",
      "|   Matthew Patel|      Sales|\n",
      "|  William Nguyen|         IT|\n",
      "|   Sophia Garcia|         HR|\n",
      "+----------------+-----------+\n",
      "\n",
      "Result 4: \n",
      "+----------------+---+-----------+------+\n",
      "|            name|age| department|status|\n",
      "+----------------+---+-----------+------+\n",
      "|        John Doe| 28|Engineering| YOUNG|\n",
      "|      Jane Smith| 34|  Marketing|MATURE|\n",
      "|    Mike Johnson| 45|    Finance|MATURE|\n",
      "|  Sarah Williams| 29|Engineering| YOUNG|\n",
      "|     David Brown| 38|         HR|MATURE|\n",
      "|     Emily Davis| 31|      Sales|MATURE|\n",
      "|      Robert Lee| 42|         IT|MATURE|\n",
      "|       Lisa Chen| 27|  Marketing| YOUNG|\n",
      "|    James Wilson| 50|    Finance|MATURE|\n",
      "|     Anna Taylor| 24|    Support| YOUNG|\n",
      "|   Michael Adams| 33|Engineering|MATURE|\n",
      "|  Jennifer Lopez| 41|         HR|MATURE|\n",
      "|      Daniel Kim| 26|         IT| YOUNG|\n",
      "|Amanda Rodriguez| 35|  Marketing|MATURE|\n",
      "| Christopher Lee| 44|    Finance|MATURE|\n",
      "|    Jessica Wong| 30|Engineering|MATURE|\n",
      "|   Matthew Patel| 39|      Sales|MATURE|\n",
      "| Olivia Martinez| 28|    Support| YOUNG|\n",
      "|  William Nguyen| 47|         IT|MATURE|\n",
      "|   Sophia Garcia| 32|         HR|MATURE|\n",
      "+----------------+---+-----------+------+\n",
      "\n"
     ]
    }
   ],
   "source": [
    "print(\"Result 1: \")\n",
    "res1.show()\n",
    "\n",
    "print(\"Result 2: \")\n",
    "res2.show()\n",
    "\n",
    "print(\"Result 3: \")\n",
    "res3.show()\n",
    "\n",
    "print(\"Result 4: \")\n",
    "res4.show()"
   ]
  },
  {
   "cell_type": "code",
   "execution_count": 21,
   "id": "337fddc8-2d80-4a27-9d7e-caac56d62854",
   "metadata": {},
   "outputs": [
    {
     "name": "stdout",
     "output_type": "stream",
     "text": [
      "Result 4: \n",
      "+----------------+---+-----------+--------+\n",
      "|            name|age| department|  status|\n",
      "+----------------+---+-----------+--------+\n",
      "|        John Doe| 28|Engineering|   YOUNG|\n",
      "|      Jane Smith| 34|  Marketing|  MATURE|\n",
      "|    Mike Johnson| 45|    Finance|  MATURE|\n",
      "|  Sarah Williams| 29|Engineering|   YOUNG|\n",
      "|     David Brown| 38|         HR|  MATURE|\n",
      "|     Emily Davis| 31|      Sales|  MATURE|\n",
      "|      Robert Lee| 42|         IT|  MATURE|\n",
      "|       Lisa Chen| 27|  Marketing|   YOUNG|\n",
      "|    James Wilson| 50|    Finance|  MATURE|\n",
      "|     Anna Taylor| 24|    Support|   YOUNG|\n",
      "|   Michael Adams| 33|Engineering|  MATURE|\n",
      "|  Jennifer Lopez| 41|         HR|  MATURE|\n",
      "|      Daniel Kim| 26|         IT|   YOUNG|\n",
      "|Amanda Rodriguez| 35|  Marketing|  MATURE|\n",
      "| Christopher Lee| 44|    Finance|  MATURE|\n",
      "|    Jessica Wong| 30|Engineering|  MATURE|\n",
      "|   Matthew Patel| 39|      Sales|  MATURE|\n",
      "| Olivia Martinez| 28|    Support|   YOUNG|\n",
      "|  William Nguyen| 47|         IT|  MATURE|\n",
      "|   Sophia Garcia| 32|         HR|  MATURE|\n",
      "+----------------+---+-----------+--------+\n",
      "\n"
     ]
    }
   ],
   "source": [
    "print(\"Result 4: \")\n",
    "res4.show()"
   ]
  },
  {
   "cell_type": "code",
   "execution_count": 22,
   "id": "9f63a389-f777-4582-a6e6-16919e7c4bae",
   "metadata": {},
   "outputs": [],
   "source": [
    "spark.stop()"
   ]
  },
  {
   "cell_type": "code",
   "execution_count": null,
   "id": "b8b31624-c2eb-4496-9616-aa2c7976837c",
   "metadata": {},
   "outputs": [],
   "source": []
  }
 ],
 "metadata": {
  "kernelspec": {
   "display_name": "Python 3 (ipykernel)",
   "language": "python",
   "name": "python3"
  },
  "language_info": {
   "codemirror_mode": {
    "name": "ipython",
    "version": 3
   },
   "file_extension": ".py",
   "mimetype": "text/x-python",
   "name": "python",
   "nbconvert_exporter": "python",
   "pygments_lexer": "ipython3",
   "version": "3.8.20"
  }
 },
 "nbformat": 4,
 "nbformat_minor": 5
}
